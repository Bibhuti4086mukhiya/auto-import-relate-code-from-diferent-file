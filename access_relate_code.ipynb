{
 "cells": [
  {
   "cell_type": "code",
   "execution_count": 26,
   "id": "02dec858",
   "metadata": {},
   "outputs": [],
   "source": [
    "import ast"
   ]
  },
  {
   "cell_type": "code",
   "execution_count": 2,
   "id": "260df1c7",
   "metadata": {},
   "outputs": [],
   "source": [
    "def path_of_file(lib_path=None):\n",
    "    if lib_path is not None:\n",
    "        import sys\n",
    "        import os\n",
    "        sys.path.insert(0,lib_path)\n",
    "        with open(\"input.py\", \"r\") as f:\n",
    "            code = f.read() #\n",
    "        tree = ast.parse(code)\n",
    "    return tree"
   ]
  },
  {
   "cell_type": "code",
   "execution_count": 6,
   "id": "35ccfaec",
   "metadata": {
    "scrolled": false
   },
   "outputs": [
    {
     "name": "stdout",
     "output_type": "stream",
     "text": [
      "{'ModuleReloader': 'abcL', 'main': 'abcd', 'bidderAndBidReadOnly': 'abcd'}\n"
     ]
    }
   ],
   "source": [
    "class WildcardImportChecker(ast.NodeVisitor):\n",
    "    def visit_ImportFrom(self, node):\n",
    "        for alias in node.names:\n",
    "            self._file_module[f\"{alias.name}\"]=f'{node.module}'\n",
    "        self.generic_visit(node)\n",
    "    def set_file_module(self, module):\n",
    "        self._file_module = module\n",
    "        \n",
    "def import_module(file_path):\n",
    "    tree = path_of_file(file_path)\n",
    "    file_module={}\n",
    "    visitor = WildcardImportChecker()\n",
    "    visitor.set_file_module(file_module)\n",
    "    visitor.visit(tree)\n",
    "    return file_module\n",
    "    \n",
    "h=r\"C:/Users/Dell/Desktop/storage/timeline/2023/july/auto access relate code/input.py\"    \n",
    "print(import_module(h))"
   ]
  },
  {
   "cell_type": "code",
   "execution_count": 11,
   "id": "5485e3e3",
   "metadata": {},
   "outputs": [
    {
     "name": "stdout",
     "output_type": "stream",
     "text": [
      "['bidderAndBidReadOnly', 'main']\n"
     ]
    }
   ],
   "source": [
    "class PrintToCallFunctionTransformer(ast.NodeTransformer):\n",
    "    def visit_Call(self, node):\n",
    "        if node.func.id!='print':\n",
    "            self._function+=[f'{node.func.id}']\n",
    "        self.generic_visit(node)\n",
    "    def set_function(self,id):\n",
    "        self._function = id\n",
    "\n",
    "def import_function_name(file_path):\n",
    "    tree = path_of_file(file_path)\n",
    "    function=[]\n",
    "    transformer = PrintToCallFunctionTransformer()\n",
    "    transformer.set_function(function)\n",
    "    transformer.visit(tree)\n",
    "    return function\n",
    "\n",
    "h=r\"C:/Users/Dell/Desktop/storage/timeline/2023/july/auto access relate code/input.py\"    \n",
    "print(import_function_name(h))"
   ]
  },
  {
   "cell_type": "code",
   "execution_count": 25,
   "id": "5ab89561",
   "metadata": {},
   "outputs": [],
   "source": [
    "def find_assign_nodes(source_code):\n",
    "    tree = ast.parse(source_code)\n",
    "    assign_nodes = [node for node in ast.walk(tree) if isinstance(node, ast.Assign)]\n",
    "    return assign_nodes"
   ]
  },
  {
   "cell_type": "code",
   "execution_count": null,
   "id": "d65bdf3c",
   "metadata": {},
   "outputs": [],
   "source": [
    "def exclude_imports_functions(code_str):\n",
    "    parsed_ast = ast.parse(code_str)\n",
    "    def reconstruct_code(node):\n",
    "        if isinstance(node, (ast.Import, ast.ImportFrom)):\n",
    "            return \"\"\n",
    "        return ast.unparse(node)\n",
    "    filtered_code = \"\\n\".join(reconstruct_code(node) for node in parsed_ast.body)\n",
    "    return filtered_code"
   ]
  },
  {
   "cell_type": "code",
   "execution_count": 33,
   "id": "7011d31c",
   "metadata": {},
   "outputs": [
    {
     "name": "stdout",
     "output_type": "stream",
     "text": [
      "{'bidderAndBid', 'bidderAndBidReadOnly'}\n"
     ]
    }
   ],
   "source": [
    "def call_function(function):\n",
    "    x_list=set()\n",
    "    assign_nodes = find_assign_nodes(function)\n",
    "    for assign_node in assign_nodes:\n",
    "        targets = [target.id for target in assign_node.targets if isinstance(target, ast.Name)]\n",
    "        value = ast.unparse(assign_node.value).strip()\n",
    "        x=''\n",
    "        if len(targets)==0:\n",
    "            for j in value:\n",
    "                if j=='(':\n",
    "                    x_list.add(x)\n",
    "                    break\n",
    "                else:\n",
    "                    x+=j\n",
    "    return x_list\n",
    "\n",
    "call_function(function)"
   ]
  },
  {
   "cell_type": "code",
   "execution_count": 29,
   "id": "fb50ef5a",
   "metadata": {},
   "outputs": [],
   "source": [
    "import ast\n",
    "import inspect\n",
    "\n",
    "def fileOpen():\n",
    "    try:\n",
    "        file=open('output.py','a')\n",
    "        return file \n",
    "    except:\n",
    "        pass\n",
    "\n",
    "def newFile(func_name):\n",
    "    x_list=set()\n",
    "    for i in func_name:\n",
    "        module = __import__(str(file_module[i]))#file name \n",
    "        source_code = inspect.getsource(getattr(module,i))#def func name\n",
    "        file=fileOpen()\n",
    "        file.write(source_code)\n",
    "        file.close()\n",
    "\n",
    "\n",
    "\n",
    "    if len(x_list)!=0:\n",
    "        source = (open(\"output.py\", \"r\").read())\n",
    "        functions = [f.name for f in ast.parse(source).body\n",
    "             if isinstance(f, ast.FunctionDef)]\n",
    "\n",
    "    remain_def=x_list.difference(set(functions))\n",
    "    for j in remain_def:\n",
    "        source_code = inspect.getsource(getattr(module,j))#def func name\n",
    "        file=fileOpen()\n",
    "        file.write(source_code)\n",
    "        file.close()\n",
    "\n",
    "newFile(func_name) \n",
    "\n",
    "filtered_code = exclude_imports_functions(code)\n",
    "file=fileOpen()\n",
    "file.write(filtered_code)\n",
    "file.close()\n",
    "\n"
   ]
  },
  {
   "cell_type": "code",
   "execution_count": null,
   "id": "ebd29a54",
   "metadata": {},
   "outputs": [],
   "source": []
  }
 ],
 "metadata": {
  "kernelspec": {
   "display_name": "Python 3 (ipykernel)",
   "language": "python",
   "name": "python3"
  },
  "language_info": {
   "codemirror_mode": {
    "name": "ipython",
    "version": 3
   },
   "file_extension": ".py",
   "mimetype": "text/x-python",
   "name": "python",
   "nbconvert_exporter": "python",
   "pygments_lexer": "ipython3",
   "version": "3.9.12"
  }
 },
 "nbformat": 4,
 "nbformat_minor": 5
}

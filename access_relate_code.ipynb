{
 "cells": [
  {
   "cell_type": "code",
   "execution_count": 1,
   "id": "02dec858",
   "metadata": {},
   "outputs": [],
   "source": [
    "import ast\n",
    "import inspect"
   ]
  },
  {
   "cell_type": "code",
   "execution_count": 2,
   "id": "260df1c7",
   "metadata": {},
   "outputs": [],
   "source": [
    "def path_of_file(lib_path=None):\n",
    "    if lib_path is not None:\n",
    "        import sys\n",
    "        import os\n",
    "        sys.path.insert(0,lib_path)\n",
    "        with open(F\"{lib_path}\", \"r\") as f:\n",
    "            code = f.read() #\n",
    "        tree = ast.parse(code)\n",
    "        return tree"
   ]
  },
  {
   "cell_type": "code",
   "execution_count": 3,
   "id": "35ccfaec",
   "metadata": {
    "scrolled": false
   },
   "outputs": [],
   "source": [
    "class WildcardImportChecker(ast.NodeVisitor):\n",
    "    def visit_ImportFrom(self, node):\n",
    "        for alias in node.names:\n",
    "            self._file_module[f\"{alias.name}\"]=f'{node.module}'\n",
    "        self.generic_visit(node)\n",
    "    def set_file_module(self, module):\n",
    "        self._file_module = module\n",
    "        \n",
    "def import_module(tree):\n",
    "#     tree = path_of_file(file_path)\n",
    "    file_module={}\n",
    "    visitor = WildcardImportChecker()\n",
    "    visitor.set_file_module(file_module)\n",
    "    visitor.visit(tree)\n",
    "    return file_module\n",
    "    \n",
    "# h=r\"C:/Users/Dell/Desktop/storage/timeline/2023/july/auto access relate code/input.py\"    \n",
    "# print(import_module(h))"
   ]
  },
  {
   "cell_type": "code",
   "execution_count": 37,
   "id": "5485e3e3",
   "metadata": {},
   "outputs": [
    {
     "ename": "NameError",
     "evalue": "name 'tree' is not defined",
     "output_type": "error",
     "traceback": [
      "\u001b[1;31m---------------------------------------------------------------------------\u001b[0m",
      "\u001b[1;31mNameError\u001b[0m                                 Traceback (most recent call last)",
      "Cell \u001b[1;32mIn[37], line 18\u001b[0m\n\u001b[0;32m     15\u001b[0m     \u001b[38;5;28;01mreturn\u001b[39;00m function\n\u001b[0;32m     17\u001b[0m h\u001b[38;5;241m=\u001b[39m\u001b[38;5;124mr\u001b[39m\u001b[38;5;124m\"\u001b[39m\u001b[38;5;124mC:/Users/Dell/Desktop/storage/timeline/2023/july/auto access relate code/input.py\u001b[39m\u001b[38;5;124m\"\u001b[39m    \n\u001b[1;32m---> 18\u001b[0m \u001b[38;5;28mprint\u001b[39m(import_function_name(\u001b[43mtree\u001b[49m))\n",
      "\u001b[1;31mNameError\u001b[0m: name 'tree' is not defined"
     ]
    }
   ],
   "source": [
    "class PrintToCallFunctionTransformer(ast.NodeTransformer):\n",
    "    def visit_Call(self, node):\n",
    "        if node.func.id!='print':\n",
    "            self._function+=[f'{node.func.id}']\n",
    "        self.generic_visit(node)\n",
    "    def set_function(self,id):\n",
    "        self._function = id\n",
    "\n",
    "def import_function_name(tree):\n",
    "#     tree = path_of_file(file_path)\n",
    "    function=[]\n",
    "    transformer = PrintToCallFunctionTransformer()\n",
    "    transformer.set_function(function)\n",
    "    transformer.visit(tree)\n",
    "    return function\n",
    "\n",
    "# h=r\"C:/Users/Dell/Desktop/storage/timeline/2023/july/auto access relate code/input.py\"    \n",
    "# print(import_function_name())"
   ]
  },
  {
   "cell_type": "code",
   "execution_count": 52,
   "id": "5ab89561",
   "metadata": {},
   "outputs": [],
   "source": [
    "def find_assign_nodes(source_code):\n",
    "    tree = ast.parse(source_code)\n",
    "    assign_nodes = [node for node in ast.walk(tree) if isinstance(node, ast.Assign)]\n",
    "    return assign_nodes"
   ]
  },
  {
   "cell_type": "code",
   "execution_count": null,
   "id": "d65bdf3c",
   "metadata": {},
   "outputs": [],
   "source": [
    "def exclude_imports_functions(code_str):\n",
    "    parsed_ast = ast.parse(code_str)\n",
    "    def reconstruct_code(node):\n",
    "        if isinstance(node, (ast.Import, ast.ImportFrom)):\n",
    "            return \"\"\n",
    "        return ast.unparse(node)\n",
    "    filtered_code = \"\\n\".join(reconstruct_code(node) for node in parsed_ast.body)\n",
    "    return filtered_code"
   ]
  },
  {
   "cell_type": "code",
   "execution_count": 56,
   "id": "7011d31c",
   "metadata": {},
   "outputs": [],
   "source": [
    "def call_function(function):\n",
    "    x_list=set()\n",
    "    assign_nodes = find_assign_nodes(function)\n",
    "    for assign_node in assign_nodes:\n",
    "        targets = [target.id for target in assign_node.targets if isinstance(target, ast.Name)]\n",
    "        value = ast.unparse(assign_node.value).strip()\n",
    "        x=''\n",
    "        if len(targets)==0:\n",
    "            for j in value:\n",
    "                if j=='(':\n",
    "                    x_list.add(x)\n",
    "                    break\n",
    "                else:\n",
    "                    x+=j\n",
    "    return x_list\n",
    "\n",
    "# call_function(function)"
   ]
  },
  {
   "cell_type": "code",
   "execution_count": 6,
   "id": "bd464aa4",
   "metadata": {},
   "outputs": [],
   "source": [
    "def fileOpen(outputFile, content):\n",
    "    with open(outputFile,'a') as f:\n",
    "        f.write(content)\n",
    "        f.close()"
   ]
  },
  {
   "cell_type": "code",
   "execution_count": 50,
   "id": "64d9d72c",
   "metadata": {},
   "outputs": [
    {
     "data": {
      "text/plain": [
       "['bidderAndBidReadOnly', 'main']"
      ]
     },
     "execution_count": 50,
     "metadata": {},
     "output_type": "execute_result"
    }
   ],
   "source": [
    "def find_callFunction_inside_function():\n",
    "    source = (open(\"output.py\", \"r\").read())\n",
    "    functions = [f.name for f in ast.parse(source).body\n",
    "         if isinstance(f, ast.FunctionDef)]\n",
    "    return functions\n",
    "\n",
    "find_callFunction_inside_function()"
   ]
  },
  {
   "cell_type": "code",
   "execution_count": 59,
   "id": "fb50ef5a",
   "metadata": {
    "scrolled": true
   },
   "outputs": [
    {
     "name": "stdout",
     "output_type": "stream",
     "text": [
      "set() hello\n",
      "{'bidderAndBid', 'bidderAndBidReadOnly'} hello\n"
     ]
    }
   ],
   "source": [
    "def newFile():\n",
    "    tree=path_of_file('input.py')\n",
    "    import_file=import_module(tree)\n",
    "    function=import_function_name(tree)\n",
    "#     print(function)\n",
    "    for i in function:\n",
    "        module = __import__(str(import_file[i]))#file name \n",
    "        source_code = inspect.getsource(getattr(module,i))#def func name\n",
    "        inside_function=call_function(source_code)\n",
    "        \n",
    "        print(inside_function,'hello')\n",
    "        \n",
    "#     print(functions)\n",
    "#         if len(functions)!=0:\n",
    "#             print(function,functions)\n",
    "#             remain_function_write=set(function).difference(set(functions))\n",
    "#             print(remain_function_write)\n",
    "#         for j in remain_function_write:\n",
    "#             print(j)\n",
    "#             source_code = inspect.getsource(getattr(module,j))#def func name\n",
    "#             fileOpen(outputFile,source_code)\n",
    "\n",
    "        \n",
    "#     filtered_code = exclude_imports_functions(code)\n",
    "#     file=fileOpen()\n",
    "#     file.write(filtered_code)\n",
    "#     file.close()\n",
    "\n",
    "newFile() "
   ]
  },
  {
   "cell_type": "code",
   "execution_count": null,
   "id": "ebd29a54",
   "metadata": {},
   "outputs": [],
   "source": []
  }
 ],
 "metadata": {
  "kernelspec": {
   "display_name": "Python 3 (ipykernel)",
   "language": "python",
   "name": "python3"
  },
  "language_info": {
   "codemirror_mode": {
    "name": "ipython",
    "version": 3
   },
   "file_extension": ".py",
   "mimetype": "text/x-python",
   "name": "python",
   "nbconvert_exporter": "python",
   "pygments_lexer": "ipython3",
   "version": "3.9.12"
  }
 },
 "nbformat": 4,
 "nbformat_minor": 5
}

{
 "cells": [
  {
   "cell_type": "code",
   "execution_count": 18,
   "id": "02dec858",
   "metadata": {},
   "outputs": [],
   "source": [
    "import ast\n",
    "import inspect"
   ]
  },
  {
   "cell_type": "code",
   "execution_count": 19,
   "id": "260df1c7",
   "metadata": {},
   "outputs": [],
   "source": [
    "def path_of_file(lib_path=None):\n",
    "    if lib_path is not None:\n",
    "        import sys\n",
    "        import os\n",
    "        sys.path.insert(0,lib_path)\n",
    "        with open(F\"{lib_path}\", \"r\") as f:\n",
    "            code = f.read() #\n",
    "        tree = ast.parse(code)\n",
    "        return tree,code"
   ]
  },
  {
   "cell_type": "code",
   "execution_count": 20,
   "id": "35ccfaec",
   "metadata": {
    "scrolled": false
   },
   "outputs": [],
   "source": [
    "class WildcardImportChecker(ast.NodeVisitor):\n",
    "    def visit_ImportFrom(self, node):\n",
    "        for alias in node.names:\n",
    "            self._file_module[f\"{alias.name}\"]=f'{node.module}'\n",
    "        self.generic_visit(node)\n",
    "    def set_file_module(self, module):\n",
    "        self._file_module = module\n",
    "        \n",
    "def import_module(tree):\n",
    "#     tree = path_of_file(file_path)\n",
    "    file_module={}\n",
    "    visitor = WildcardImportChecker()\n",
    "    visitor.set_file_module(file_module)\n",
    "    visitor.visit(tree)\n",
    "    return file_module"
   ]
  },
  {
   "cell_type": "code",
   "execution_count": 21,
   "id": "5485e3e3",
   "metadata": {},
   "outputs": [],
   "source": [
    "class PrintToCallFunctionTransformer(ast.NodeTransformer):\n",
    "    def visit_Call(self, node):\n",
    "        if node.func.id!='print':\n",
    "            self._function+=[f'{node.func.id}']\n",
    "        self.generic_visit(node)\n",
    "    def set_function(self,id):\n",
    "        self._function = id\n",
    "\n",
    "def import_function_name(tree):\n",
    "#     tree = path_of_file(file_path)\n",
    "    function=[]\n",
    "    transformer = PrintToCallFunctionTransformer()\n",
    "    transformer.set_function(function)\n",
    "    transformer.visit(tree)\n",
    "    return function"
   ]
  },
  {
   "cell_type": "code",
   "execution_count": 22,
   "id": "5ab89561",
   "metadata": {},
   "outputs": [],
   "source": [
    "def find_assign_nodes(source_code):\n",
    "    tree = ast.parse(source_code)\n",
    "    assign_nodes = [node for node in ast.walk(tree) if isinstance(node, ast.Assign)]\n",
    "    return assign_nodes"
   ]
  },
  {
   "cell_type": "code",
   "execution_count": 23,
   "id": "d65bdf3c",
   "metadata": {},
   "outputs": [],
   "source": [
    "def exclude_imports_functions(code_str):\n",
    "    parsed_ast = ast.parse(code_str)\n",
    "    def reconstruct_code(node):\n",
    "        if isinstance(node, (ast.Import, ast.ImportFrom)):\n",
    "            return \"\"\n",
    "        return ast.unparse(node)\n",
    "    filtered_code = \"\\n\".join(reconstruct_code(node) for node in parsed_ast.body)\n",
    "    return filtered_code"
   ]
  },
  {
   "cell_type": "code",
   "execution_count": 24,
   "id": "7011d31c",
   "metadata": {},
   "outputs": [],
   "source": [
    "def call_function(function):\n",
    "    x_list=set()\n",
    "    assign_nodes = find_assign_nodes(function)\n",
    "    for assign_node in assign_nodes:\n",
    "        targets = [target.id for target in assign_node.targets if isinstance(target, ast.Name)]\n",
    "        value = ast.unparse(assign_node.value).strip()\n",
    "        x=''\n",
    "        if len(targets)==0:\n",
    "            for j in value:\n",
    "                if j=='(':\n",
    "                    x_list.add(x)\n",
    "                    break\n",
    "                else:\n",
    "                    x+=j\n",
    "    return x_list\n",
    "\n",
    "# call_function(function)"
   ]
  },
  {
   "cell_type": "code",
   "execution_count": 25,
   "id": "bd464aa4",
   "metadata": {},
   "outputs": [],
   "source": [
    "def fileOpen(outputFile, content):\n",
    "    with open(outputFile,'a') as f:\n",
    "        f.write(content)\n",
    "        f.close()"
   ]
  },
  {
   "cell_type": "code",
   "execution_count": 26,
   "id": "64d9d72c",
   "metadata": {},
   "outputs": [],
   "source": [
    "def find_callFunction_inside_function():\n",
    "    source = (open(\"output.py\", \"r\").read())\n",
    "    functions = [f.name for f in ast.parse(source).body\n",
    "         if isinstance(f, ast.FunctionDef)]\n",
    "    return functions"
   ]
  },
  {
   "cell_type": "code",
   "execution_count": 27,
   "id": "b96542c7",
   "metadata": {},
   "outputs": [],
   "source": [
    "def read_file(filename):\n",
    "    with open(filename, 'r') as file:\n",
    "        code = file.read()\n",
    "    return ast.parse(code, filename=filename)"
   ]
  },
  {
   "cell_type": "code",
   "execution_count": 28,
   "id": "2a526d69",
   "metadata": {},
   "outputs": [],
   "source": [
    "def find_function(node, target_function_name):\n",
    "    for item in ast.walk(node):\n",
    "        if isinstance(item, ast.FunctionDef) and item.name == target_function_name:\n",
    "            return item\n",
    "    return None"
   ]
  },
  {
   "cell_type": "code",
   "execution_count": null,
   "id": "4220f57f",
   "metadata": {},
   "outputs": [],
   "source": []
  },
  {
   "cell_type": "code",
   "execution_count": 36,
   "id": "fb50ef5a",
   "metadata": {
    "scrolled": true
   },
   "outputs": [
    {
     "name": "stdout",
     "output_type": "stream",
     "text": [
      "['bidderAndBidReadOnly', 'main']\n"
     ]
    }
   ],
   "source": [
    "def newFile(file_name):\n",
    "    path=path_of_file(file_name)\n",
    "    tree=path[0]\n",
    "    import_file=import_module(tree)\n",
    "    function=import_function_name(tree)\n",
    "    print(function)\n",
    "    for i in function:\n",
    "        module = import_file[i]#file name \n",
    "        parsed_tree = read_file(module+'.py')\n",
    "        target_function_node = find_function(parsed_tree,i)\n",
    "        \n",
    "        inside_function=call_function(target_function_source)\n",
    "        outputFile='output.py'\n",
    "        if len(inside_function)!=0:\n",
    "            remain_function_write=set(inside_function).difference(set(function))\n",
    "            for j in remain_function_write:\n",
    "                parsed_tree = read_file(module+'.py')\n",
    "                target_function_node = find_function(parsed_tree,j)\n",
    "                if target_function_node:\n",
    "                    # Get the source code of the target function\n",
    "                    with open(module+'.py', 'r') as file:\n",
    "                        lines = file.readlines()\n",
    "                        start_line = target_function_node.lineno - 1\n",
    "                        end_line = target_function_node.end_lineno\n",
    "                        target_function_source = ''.join(lines[start_line:end_line])\n",
    "                        fileOpen('output.py',target_function_source)\n",
    "                else:\n",
    "                    print(f\"The function '{target_function_name}' was not found in the file.\")\n",
    "    code=path[1]\n",
    "    filtered_code = exclude_imports_functions(code)\n",
    "    fileOpen(outputFile,filtered_code)\n",
    "file_name='input.py'\n",
    "newFile(file_name) "
   ]
  },
  {
   "cell_type": "code",
   "execution_count": 35,
   "id": "fc6c7d92",
   "metadata": {},
   "outputs": [],
   "source": [
    "!start"
   ]
  },
  {
   "cell_type": "code",
   "execution_count": null,
   "id": "1da351fe",
   "metadata": {},
   "outputs": [],
   "source": []
  }
 ],
 "metadata": {
  "kernelspec": {
   "display_name": "Python 3 (ipykernel)",
   "language": "python",
   "name": "python3"
  },
  "language_info": {
   "codemirror_mode": {
    "name": "ipython",
    "version": 3
   },
   "file_extension": ".py",
   "mimetype": "text/x-python",
   "name": "python",
   "nbconvert_exporter": "python",
   "pygments_lexer": "ipython3",
   "version": "3.9.12"
  }
 },
 "nbformat": 4,
 "nbformat_minor": 5
}

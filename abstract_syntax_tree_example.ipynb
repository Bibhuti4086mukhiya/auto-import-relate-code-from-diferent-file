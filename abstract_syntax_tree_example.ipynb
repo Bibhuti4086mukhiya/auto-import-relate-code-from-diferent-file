{
 "cells": [
  {
   "cell_type": "code",
   "execution_count": 1,
   "id": "c09bc662",
   "metadata": {},
   "outputs": [],
   "source": [
    "# Python ast Module"
   ]
  },
  {
   "cell_type": "code",
   "execution_count": 2,
   "id": "534e3668",
   "metadata": {},
   "outputs": [],
   "source": [
    "import ast"
   ]
  },
  {
   "cell_type": "code",
   "execution_count": null,
   "id": "f9c39774",
   "metadata": {},
   "outputs": [],
   "source": [
    "# How To Parse a Python Code String with ast"
   ]
  },
  {
   "cell_type": "code",
   "execution_count": 3,
   "id": "fb734c29",
   "metadata": {},
   "outputs": [],
   "source": [
    "code_string = \"\"\"\n",
    "def add(a, b):\n",
    "    return a + b\n",
    "\n",
    "result = add(1, 2)\n",
    "print(result)\n",
    "\"\"\""
   ]
  },
  {
   "cell_type": "code",
   "execution_count": 4,
   "id": "09c16025",
   "metadata": {},
   "outputs": [],
   "source": [
    "tree = ast.parse(code_string)"
   ]
  },
  {
   "cell_type": "code",
   "execution_count": 5,
   "id": "a9ebe140",
   "metadata": {},
   "outputs": [
    {
     "name": "stdout",
     "output_type": "stream",
     "text": [
      "Module(\n",
      "  body=[\n",
      "    FunctionDef(\n",
      "      name='add',\n",
      "      args=arguments(\n",
      "        posonlyargs=[],\n",
      "        args=[\n",
      "          arg(arg='a'),\n",
      "          arg(arg='b')],\n",
      "        kwonlyargs=[],\n",
      "        kw_defaults=[],\n",
      "        defaults=[]),\n",
      "      body=[\n",
      "        Return(\n",
      "          value=BinOp(\n",
      "            left=Name(id='a', ctx=Load()),\n",
      "            op=Add(),\n",
      "            right=Name(id='b', ctx=Load())))],\n",
      "      decorator_list=[]),\n",
      "    Assign(\n",
      "      targets=[\n",
      "        Name(id='result', ctx=Store())],\n",
      "      value=Call(\n",
      "        func=Name(id='add', ctx=Load()),\n",
      "        args=[\n",
      "          Constant(value=1),\n",
      "          Constant(value=2)],\n",
      "        keywords=[])),\n",
      "    Expr(\n",
      "      value=Call(\n",
      "        func=Name(id='print', ctx=Load()),\n",
      "        args=[\n",
      "          Name(id='result', ctx=Load())],\n",
      "        keywords=[]))],\n",
      "  type_ignores=[])\n"
     ]
    }
   ],
   "source": [
    "print(ast.dump(tree, indent=2))"
   ]
  },
  {
   "cell_type": "code",
   "execution_count": 60,
   "id": "6274529e",
   "metadata": {},
   "outputs": [],
   "source": [
    "# print(ast.pretty(tree)) #3.11 and later"
   ]
  },
  {
   "cell_type": "code",
   "execution_count": null,
   "id": "da5f3939",
   "metadata": {},
   "outputs": [],
   "source": [
    "\n",
    "# How To Navigate and Manipulate AST Nodes"
   ]
  },
  {
   "cell_type": "code",
   "execution_count": 12,
   "id": "94cf09a0",
   "metadata": {},
   "outputs": [
    {
     "name": "stdout",
     "output_type": "stream",
     "text": [
      "Function name: foo\n"
     ]
    }
   ],
   "source": [
    "# by using this code us call the function and combine the both code make as \"from abcd import main\" then print code\n",
    "import ast\n",
    "\n",
    "class FunctionNamePrinter(ast.NodeVisitor):\n",
    "    def visit_FunctionDef(self, node):\n",
    "        print(f\"Function name: {node.name}\")\n",
    "        self.generic_visit(node)\n",
    "\n",
    "tree = ast.parse(\"def foo(): pass\")\n",
    "visitor = FunctionNamePrinter()\n",
    "visitor.visit(tree)"
   ]
  },
  {
   "cell_type": "code",
   "execution_count": 61,
   "id": "f78a6bc3",
   "metadata": {},
   "outputs": [],
   "source": [
    "# node_name = node.name\n",
    "# node_args = node.args\n",
    "# node_body = node.body"
   ]
  },
  {
   "cell_type": "code",
   "execution_count": 22,
   "id": "9f1c983c",
   "metadata": {},
   "outputs": [],
   "source": [
    "import ast\n",
    "\n",
    "class XTo42Transformer(ast.NodeTransformer):\n",
    "    def visit_Name(self, node):\n",
    "        if node.id == \"x\":\n",
    "            return ast.Constant(value=42)\n",
    "        return node\n",
    "\n",
    "tree = ast.parse(\"y = x * 2\")\n",
    "transformer = XTo42Transformer()\n",
    "new_tree = transformer.visit(tree)"
   ]
  },
  {
   "cell_type": "code",
   "execution_count": 23,
   "id": "43f1f03b",
   "metadata": {},
   "outputs": [
    {
     "name": "stdout",
     "output_type": "stream",
     "text": [
      "y = 42 * 2\n"
     ]
    }
   ],
   "source": [
    "import ast\n",
    "\n",
    "code = ast.unparse(new_tree)\n",
    "print(code)"
   ]
  },
  {
   "cell_type": "code",
   "execution_count": null,
   "id": "74dc1955",
   "metadata": {},
   "outputs": [],
   "source": [
    "# How To Analyze Syntax Errors in Python Code"
   ]
  },
  {
   "cell_type": "code",
   "execution_count": 25,
   "id": "64ac73bd",
   "metadata": {},
   "outputs": [
    {
     "name": "stdout",
     "output_type": "stream",
     "text": [
      "Syntax error: unmatched ')' (<unknown>, line 1)\n"
     ]
    }
   ],
   "source": [
    "import ast\n",
    "\n",
    "code_string = \"a = 1 + )\"\n",
    "\n",
    "try:\n",
    "    tree = ast.parse(code_string)\n",
    "except SyntaxError as e:\n",
    "    print(f\"Syntax error: {e}\")\n",
    "\n",
    "# msg: A string that describes the syntax error.\n",
    "# filename: The name of the file where the error occurred (None if the input is a string).\n",
    "# lineno: The line number where the error occurred.\n",
    "# offset: The column number where the error occurred.\n",
    "# text: The line of code that contains the syntax error."
   ]
  },
  {
   "cell_type": "code",
   "execution_count": 24,
   "id": "2ca020f2",
   "metadata": {},
   "outputs": [
    {
     "name": "stdout",
     "output_type": "stream",
     "text": [
      "Syntax error: unmatched ')'\n",
      "Line 1, column 9\n",
      "a = 1 + )\n",
      "        ^\n"
     ]
    }
   ],
   "source": [
    "import ast\n",
    "\n",
    "code_string = \"a = 1 + )\"\n",
    "\n",
    "try:\n",
    "    tree = ast.parse(code_string)\n",
    "except SyntaxError as e:\n",
    "    print(f\"Syntax error: {e.msg}\")\n",
    "    print(f\"Line {e.lineno}, column {e.offset}\")\n",
    "    print(e.text.strip())\n",
    "    print(\" \" * (e.offset - 1) + \"^\")"
   ]
  },
  {
   "cell_type": "code",
   "execution_count": null,
   "id": "1381e975",
   "metadata": {},
   "outputs": [],
   "source": [
    "# How To Create Custom AST Transformers"
   ]
  },
  {
   "cell_type": "code",
   "execution_count": 31,
   "id": "89a7e6a5",
   "metadata": {},
   "outputs": [],
   "source": [
    "import ast\n",
    "\n",
    "class PrintToMyPrintTransformer(ast.NodeTransformer):\n",
    "    def visit_Call(self, node):\n",
    "        # Check if the function being called is 'print'\n",
    "        if isinstance(node.func, ast.Name) and node.func.id == 'print':\n",
    "            # Replace 'print' with 'my_print'\n",
    "            node.func.id = 'my_print'\n",
    "        return self.generic_visit(node)"
   ]
  },
  {
   "cell_type": "code",
   "execution_count": 32,
   "id": "682dad87",
   "metadata": {},
   "outputs": [],
   "source": [
    "code_string = \"\"\"\n",
    "print(\"Hello, World!\")\n",
    "\"\"\"\n",
    "\n",
    "tree = ast.parse(code_string)"
   ]
  },
  {
   "cell_type": "code",
   "execution_count": 33,
   "id": "843d6507",
   "metadata": {},
   "outputs": [],
   "source": [
    "transformer = PrintToMyPrintTransformer()\n",
    "new_tree = transformer.visit(tree)"
   ]
  },
  {
   "cell_type": "code",
   "execution_count": 34,
   "id": "a6777900",
   "metadata": {},
   "outputs": [
    {
     "name": "stdout",
     "output_type": "stream",
     "text": [
      "my_print('Hello, World!')\n"
     ]
    }
   ],
   "source": [
    "modified_code = ast.unparse(new_tree)\n",
    "print(modified_code)"
   ]
  },
  {
   "cell_type": "code",
   "execution_count": null,
   "id": "52dfd8c8",
   "metadata": {},
   "outputs": [],
   "source": [
    "# How To Generate Python Code from AST Objects"
   ]
  },
  {
   "cell_type": "code",
   "execution_count": 2,
   "id": "7182c237",
   "metadata": {},
   "outputs": [],
   "source": [
    "import ast\n",
    "code_string = \"\"\"\n",
    "def add(a, b):\n",
    "    return a + b\n",
    "\n",
    "result = add(1, 2)\n",
    "print(result)\n",
    "\"\"\"\n",
    "\n",
    "tree = ast.parse(code_string)"
   ]
  },
  {
   "cell_type": "code",
   "execution_count": 3,
   "id": "aa0054ef",
   "metadata": {},
   "outputs": [],
   "source": [
    "class AddToSubtractTransformer(ast.NodeTransformer):\n",
    "    def visit_Add(self, node):\n",
    "        return ast.Sub()\n",
    "\n",
    "transformer = AddToSubtractTransformer()\n",
    "new_tree = transformer.visit(tree)"
   ]
  },
  {
   "cell_type": "code",
   "execution_count": 38,
   "id": "10e77d31",
   "metadata": {},
   "outputs": [
    {
     "name": "stdout",
     "output_type": "stream",
     "text": [
      "def add(a, b):\n",
      "    return a - b\n",
      "result = add(1, 2)\n",
      "print(result)\n"
     ]
    }
   ],
   "source": [
    "generated_code = ast.unparse(new_tree)\n",
    "print(generated_code)"
   ]
  },
  {
   "cell_type": "code",
   "execution_count": null,
   "id": "0791556c",
   "metadata": {},
   "outputs": [],
   "source": [
    "# How To Use ast Module for Code Analysis and Linting"
   ]
  },
  {
   "cell_type": "code",
   "execution_count": 7,
   "id": "0bebab40",
   "metadata": {},
   "outputs": [],
   "source": [
    "by using this code first we collection module\n",
    "\n",
    "import ast\n",
    "class WildcardImportChecker(ast.NodeVisitor):\n",
    "    def visit_ImportFrom(self, node):\n",
    "        for alias in node.names:\n",
    "#             print(alias,node.names)\n",
    "            if alias.name == '*':\n",
    "                print(f\"Wildcard import at line {node.lineno}: from {node.module} import *\")\n",
    "        self.generic_visit(node)"
   ]
  },
  {
   "cell_type": "code",
   "execution_count": 8,
   "id": "bd483376",
   "metadata": {},
   "outputs": [],
   "source": [
    "code_string = \"\"\"\n",
    "import os\n",
    "from math import *\n",
    "\"\"\"\n",
    "\n",
    "tree = ast.parse(code_string)"
   ]
  },
  {
   "cell_type": "code",
   "execution_count": 10,
   "id": "3a80a5cc",
   "metadata": {},
   "outputs": [
    {
     "name": "stdout",
     "output_type": "stream",
     "text": [
      "Wildcard import at line 3: from math import *\n"
     ]
    }
   ],
   "source": [
    "visitor = WildcardImportChecker()\n",
    "visitor.visit(tree)"
   ]
  },
  {
   "cell_type": "code",
   "execution_count": 10,
   "id": "b38c6306",
   "metadata": {},
   "outputs": [
    {
     "name": "stdout",
     "output_type": "stream",
     "text": [
      "Global variable at line 1: CONSTANT\n"
     ]
    }
   ],
   "source": [
    "class GlobalVariableChecker(ast.NodeVisitor):\n",
    "    def visit_Assign(self, node):\n",
    "        for target in node.targets:\n",
    "            if isinstance(target, ast.Name) and target.id.isupper():\n",
    "                print(f\"Global variable at line {node.lineno}: {target.id}\")\n",
    "        self.generic_visit(node)\n",
    "\n",
    "tree = ast.parse('''CONSTANT = 42''')\n",
    "visitor = GlobalVariableChecker()\n",
    "visitor.visit(tree)"
   ]
  },
  {
   "cell_type": "code",
   "execution_count": null,
   "id": "13279f4e",
   "metadata": {},
   "outputs": [],
   "source": [
    "# How To Visualize Abstract Syntax Trees with ast"
   ]
  },
  {
   "cell_type": "code",
   "execution_count": 46,
   "id": "5cff7a25",
   "metadata": {},
   "outputs": [],
   "source": [
    "import ast\n",
    "code_string = \"\"\"\n",
    "def add(a, b):\n",
    "    return a + b\n",
    "\"\"\"\n",
    "\n",
    "tree = ast.parse(code_string)"
   ]
  },
  {
   "cell_type": "code",
   "execution_count": 47,
   "id": "1593c6ad",
   "metadata": {},
   "outputs": [
    {
     "name": "stdout",
     "output_type": "stream",
     "text": [
      "Module(\n",
      "  body=[\n",
      "    FunctionDef(\n",
      "      name='add',\n",
      "      args=arguments(\n",
      "        posonlyargs=[],\n",
      "        args=[\n",
      "          arg(arg='a'),\n",
      "          arg(arg='b')],\n",
      "        kwonlyargs=[],\n",
      "        kw_defaults=[],\n",
      "        defaults=[]),\n",
      "      body=[\n",
      "        Return(\n",
      "          value=BinOp(\n",
      "            left=Name(id='a', ctx=Load()),\n",
      "            op=Add(),\n",
      "            right=Name(id='b', ctx=Load())))],\n",
      "      decorator_list=[])],\n",
      "  type_ignores=[])\n"
     ]
    }
   ],
   "source": [
    "tree_str = ast.dump(tree, indent=2)\n",
    "print(tree_str)"
   ]
  },
  {
   "cell_type": "code",
   "execution_count": 48,
   "id": "14cbf07c",
   "metadata": {},
   "outputs": [
    {
     "name": "stdout",
     "output_type": "stream",
     "text": [
      "Collecting astpretty\n",
      "  Downloading astpretty-3.0.0-py2.py3-none-any.whl (4.9 kB)\n",
      "Installing collected packages: astpretty\n",
      "Successfully installed astpretty-3.0.0\n"
     ]
    }
   ],
   "source": [
    "!pip install astpretty"
   ]
  },
  {
   "cell_type": "code",
   "execution_count": 49,
   "id": "5dbf76a2",
   "metadata": {},
   "outputs": [
    {
     "name": "stdout",
     "output_type": "stream",
     "text": [
      "Module(\n",
      "  body=[\n",
      "    FunctionDef(\n",
      "      lineno=2,\n",
      "      col_offset=0,\n",
      "      end_lineno=3,\n",
      "      end_col_offset=16,\n",
      "      name='add',\n",
      "      args=arguments(\n",
      "        posonlyargs=[],\n",
      "        args=[\n",
      "          arg(lineno=2, col_offset=8, end_lineno=2, end_col_offset=9, arg='a', annotation=None, type_comment=None),\n",
      "          arg(lineno=2, col_offset=11, end_lineno=2, end_col_offset=12, arg='b', annotation=None, type_comment=None),\n",
      "        ],\n",
      "        vararg=None,\n",
      "        kwonlyargs=[],\n",
      "        kw_defaults=[],\n",
      "        kwarg=None,\n",
      "        defaults=[],\n",
      "      ),\n",
      "      body=[\n",
      "        Return(\n",
      "          lineno=3,\n",
      "          col_offset=4,\n",
      "          end_lineno=3,\n",
      "          end_col_offset=16,\n",
      "          value=BinOp(\n",
      "            lineno=3,\n",
      "            col_offset=11,\n",
      "            end_lineno=3,\n",
      "            end_col_offset=16,\n",
      "            left=Name(lineno=3, col_offset=11, end_lineno=3, end_col_offset=12, id='a', ctx=Load()),\n",
      "            op=Add(),\n",
      "            right=Name(lineno=3, col_offset=15, end_lineno=3, end_col_offset=16, id='b', ctx=Load()),\n",
      "          ),\n",
      "        ),\n",
      "      ],\n",
      "      decorator_list=[],\n",
      "      returns=None,\n",
      "      type_comment=None,\n",
      "    ),\n",
      "  ],\n",
      "  type_ignores=[],\n",
      ")\n"
     ]
    }
   ],
   "source": [
    "import astpretty\n",
    "\n",
    "astpretty.pprint(tree, indent=2)"
   ]
  },
  {
   "cell_type": "code",
   "execution_count": 54,
   "id": "7d9730cf",
   "metadata": {},
   "outputs": [],
   "source": [
    "# !pip install graphviz ast2gv"
   ]
  },
  {
   "cell_type": "code",
   "execution_count": 53,
   "id": "34e15b86",
   "metadata": {},
   "outputs": [],
   "source": [
    "# import ast2gv\n",
    "# import graphviz\n",
    "\n",
    "# graph = ast2gv.ast2gv(tree)\n",
    "# graphviz.Source(graph).view()"
   ]
  }
 ],
 "metadata": {
  "kernelspec": {
   "display_name": "Python 3 (ipykernel)",
   "language": "python",
   "name": "python3"
  },
  "language_info": {
   "codemirror_mode": {
    "name": "ipython",
    "version": 3
   },
   "file_extension": ".py",
   "mimetype": "text/x-python",
   "name": "python",
   "nbconvert_exporter": "python",
   "pygments_lexer": "ipython3",
   "version": "3.9.12"
  }
 },
 "nbformat": 4,
 "nbformat_minor": 5
}

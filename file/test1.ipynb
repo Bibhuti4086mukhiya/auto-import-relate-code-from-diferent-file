{
 "cells": [
  {
   "cell_type": "code",
   "execution_count": 14,
   "id": "3916f307",
   "metadata": {},
   "outputs": [],
   "source": [
    "import ast"
   ]
  },
  {
   "cell_type": "code",
   "execution_count": 15,
   "id": "2a7cab15",
   "metadata": {},
   "outputs": [],
   "source": [
    "with open(\"inpu.py\", \"r\") as f:\n",
    "    code = f.read()#"
   ]
  },
  {
   "cell_type": "code",
   "execution_count": 55,
   "id": "64fb64c3",
   "metadata": {},
   "outputs": [
    {
     "name": "stdout",
     "output_type": "stream",
     "text": [
      "def main(bid_list):\n",
      "    bid_list=bid_list.split(',')\n",
      "    bid=1\n",
      "    first_bid=bid\n",
      "    price=bid_list.pop(0)\n",
      "    fix_price=bid_list.pop(0)\n",
      "    open_bid=int(price)\n",
      "    highest_bid=0\n",
      "    bidder=''\n",
      "    buyer=[]\n",
      "    result=[]\n",
      "    once='zero'\n",
      "    twice='zero'\n",
      "    if len(bid_list)==2:\n",
      "        if bidder=='':\n",
      "            result+=['-']\n",
      "            result+=[str(open_bid)]\n",
      "        bidder1,bid1 = bidderAndBid(bid_list)\n",
      "        price=price.replace(price,str(bid1))\n",
      "        bidder=bidder.replace(bidder,bidder1)\n",
      "        result+=[bidder]\n",
      "        result+=[str(price)]\n",
      "        return result\n",
      "\n",
      "    for i in range(0,(len(bid_list)),2):\n",
      "        buyer+=[bid_list[i]]\n",
      "\n",
      "    for i in buyer:\n",
      "        if buyer[0]==i:\n",
      "            b=True\n",
      "        else:\n",
      "            b=False\n",
      "            break\n",
      "    if b==True:\n",
      "        if bidder=='':\n",
      "            result+=['-']\n",
      "            result+=[str(open_bid)]\n",
      "            if fix_price<=price:\n",
      "                result+=[bidder]\n",
      "                result+=[fix_price]\n",
      "            else:\n",
      "                result+=[buyer[0]]\n",
      "                result+=[open_bid]\n",
      "        return result\n",
      "\n",
      "    for i in range((len(bid_list)//2)-1):\n",
      "        if len(bid_list) != 0:\n",
      "            if bidder=='':\n",
      "                result+=['-']\n",
      "                result+=[str(open_bid)]\n",
      "\n",
      "            bidder1,bid1 = bidderAndBid(bid_list)\n",
      "            if len(bid_list) != 0:\n",
      "                bidder2,bid2 = bidderAndBidReadOnly(bid_list)\n",
      "\n",
      "            if highest_bid<bid1:\n",
      "                highest_bid=bid1\n",
      "                highest_bidder=bidder.replace(bidder,bidder1)\n",
      "\n",
      "            if bid1>bid and first_bid==1:\n",
      "                first_bid=0\n",
      "                price=price.replace(price,str(int(open_bid)))\n",
      "                bidder=bidder.replace(bidder,bidder1)\n",
      "                if int(fix_price)<=int(price) and int(fix_price)!=0:\n",
      "                    result+=[bidder]\n",
      "                    result+=[int(fix_price)]\n",
      "                else:\n",
      "                    result+=[bidder]\n",
      "                    result+=[price]\n",
      "\n",
      "                if bidder1==bidder2 and bidder1==bidder and bidder2==bidder:\n",
      "                    twice='two'\n",
      "\n",
      "            if bidder1==bidder2 and bidder1==bidder and bidder2==bidder and twice=='two':\n",
      "                continue\n",
      "\n",
      "            if bidder1==bidder2 and bidder1==bidder and bidder2==bidder and once=='once':\n",
      "                once='zero'\n",
      "                continue\n",
      "\n",
      "            if bidder1==bidder2 and bidder1==bidder and bidder2==bidder:\n",
      "                price=price.replace(price,str(int(bid1)+int(bid)))\n",
      "                bidder=bidder.replace(bidder,bidder1)\n",
      "                once=once.replace(once,once)\n",
      "                if int(fix_price)<=int(price) and int(fix_price)!=0:\n",
      "                    result+=[bidder]\n",
      "                    result+=[int(fix_price)]\n",
      "                else:\n",
      "                    result+=[bidder]\n",
      "                    result+=[price]\n",
      "\n",
      "            if bid1<bid2 and highest_bid<bid2 and bidder1!=bidder2:\n",
      "                price=price.replace(price,str(int(highest_bid)+int(bid)))\n",
      "                bidder=bidder.replace(bidder,bidder2)\n",
      "                if int(fix_price)<=int(price) and int(fix_price)!=0:\n",
      "                    result+=[bidder]\n",
      "                    result+=[int(fix_price)]\n",
      "                else:\n",
      "                    result+=[bidder]\n",
      "                    result+=[price]\n",
      "                once='once'\n",
      "                twice='two'\n",
      "\n",
      "            if highest_bid>bid2:\n",
      "                price=price.replace(price,str(int(bid2)+int(bid)))\n",
      "                bidder=bidder.replace(bidder,highest_bidder)\n",
      "                if int(fix_price)<=int(price) and int(fix_price)!=0:\n",
      "                    result+=[bidder]\n",
      "                    result+=[fix_price]\n",
      "                    continue\n",
      "                else:\n",
      "                    result+=[bidder]\n",
      "                    result+=[price]\n",
      "                continue\n",
      "\n",
      "            if highest_bid<bid2:\n",
      "                highest_bid1=highest_bid\n",
      "                highest_bid=bid2\n",
      "                highest_bidder=bidder.replace(bidder,bidder2)\n",
      "\n",
      "            if bid1<bid2 and bid2!=highest_bid and bidder1!=bidder2:\n",
      "                price=price.replace(price,str(int(bid1)+int(bid)))\n",
      "                bidder=bidder.replace(bidder,bidder2)\n",
      "                if int(fix_price)>=int(price) and int(fix_price)!=0:\n",
      "                    result+=[bidder]\n",
      "                    result+=[int(fix_price)]\n",
      "                else:\n",
      "                    result+=[bidder]\n",
      "                    result+=[price]\n",
      "\n",
      "            if highest_bid1<bid2 and bidder1==bidder2 and bidder1!=bidder:\n",
      "                highest_bid=highest_bid1\n",
      "                price=price.replace(price,str(int(highest_bid)+int(bid)))\n",
      "                bidder=bidder.replace(bidder,bidder2)\n",
      "                if int(fix_price)<=int(price) and int(fix_price)!=0:\n",
      "                    result+=[bidder]\n",
      "                    result+=[int(fix_price)]\n",
      "                else:\n",
      "                    result+=[bidder]\n",
      "                    result+=[price]\n",
      "\n",
      "            if bid1==bid2:\n",
      "                highest_bid=highest_bid\n",
      "                price=price.replace(price,str(int(highest_bid)))\n",
      "                bidder=bidder.replace(bidder,bidder1)\n",
      "                if int(fix_price)<=int(price) and int(fix_price)!=0:\n",
      "                    result+=[bidder]\n",
      "                    result+=[int(fix_price)]\n",
      "                else:\n",
      "                    result+=[bidder]\n",
      "                    result+=[price]\n",
      "\n",
      "            if bid1>bid2:\n",
      "                price=price.replace(price,str(int(bid2)+int(bid)))\n",
      "                bidder=bidder.replace(bidder,bidder1)\n",
      "                if int(fix_price)>=int(price) and int(fix_price)!=0:\n",
      "                    result+=[bidder]\n",
      "                    result+=[int(fix_price)]\n",
      "                else:\n",
      "                    result+=[bidder]\n",
      "                    result+=[price]\n",
      "    return result\n",
      "\n"
     ]
    }
   ],
   "source": [
    "# from abcd import main\n",
    "module = __import__('abcd')\n",
    "import inspect\n",
    "source_code = inspect.getsource(module.main)\n",
    "print(source_code)"
   ]
  },
  {
   "cell_type": "code",
   "execution_count": 17,
   "id": "28fecf12",
   "metadata": {},
   "outputs": [
    {
     "name": "stdout",
     "output_type": "stream",
     "text": [
      "['-', '1', 'C', '2']\n"
     ]
    }
   ],
   "source": [
    "print(main('1,1,C,2'))"
   ]
  },
  {
   "cell_type": "code",
   "execution_count": 18,
   "id": "09c1505e",
   "metadata": {},
   "outputs": [
    {
     "name": "stdout",
     "output_type": "stream",
     "text": [
      "from abcL import ModuleReloader\n",
      "from abcd import main,bidderAndBidReadOnly\n",
      "\n",
      "print(\"aaa\")\n",
      "print(main(\"1,15,A,5,B,10,A,8,A,17,B,17\"))\n",
      "\n",
      "\n",
      "h='hello'\n"
     ]
    }
   ],
   "source": [
    "print(code)"
   ]
  },
  {
   "cell_type": "code",
   "execution_count": 19,
   "id": "2f9ad280",
   "metadata": {},
   "outputs": [
    {
     "data": {
      "text/plain": [
       "'from abcL import ModuleReloader\\nfrom abcd import main,bidderAndBidReadOnly\\n\\nprint(\"aaa\")\\nprint(main(\"1,15,A,5,B,10,A,8,A,17,B,17\"))\\n\\n\\nh=\\'hello\\''"
      ]
     },
     "execution_count": 19,
     "metadata": {},
     "output_type": "execute_result"
    }
   ],
   "source": [
    "code"
   ]
  },
  {
   "cell_type": "code",
   "execution_count": 21,
   "id": "4b1cdcbe",
   "metadata": {},
   "outputs": [],
   "source": [
    "parsed=ast.parse(code)"
   ]
  },
  {
   "cell_type": "code",
   "execution_count": 22,
   "id": "2652b7e0",
   "metadata": {},
   "outputs": [
    {
     "name": "stdout",
     "output_type": "stream",
     "text": [
      "['abcL', 'abcd']\n"
     ]
    }
   ],
   "source": [
    "file=[]\n",
    "for node in parsed.body:\n",
    "    try:\n",
    "        file+=[str(node.module)]\n",
    "    except:\n",
    "        pass\n",
    "print(file)"
   ]
  },
  {
   "cell_type": "code",
   "execution_count": 23,
   "id": "8663ac1c",
   "metadata": {},
   "outputs": [
    {
     "name": "stdout",
     "output_type": "stream",
     "text": [
      "Function name: btn_click\n",
      "Function name: main\n",
      "Function name: bidderAndBid\n",
      "Function name: bidderAndBidReadOnly\n",
      "Function name: main\n"
     ]
    }
   ],
   "source": [
    "class FunctionNamePrinter(ast.NodeVisitor):\n",
    "    def visit_FunctionDef(self, node):\n",
    "        print(f\"Function name: {node.name}\")\n",
    "        \n",
    "        return self.generic_visit(node)\n",
    "        \n",
    "for i in file:\n",
    "    with open(f\"{i}.py\", \"r\") as f:\n",
    "        code = f.read()#\n",
    "    parsed=ast.parse(code)\n",
    "    visitor = FunctionNamePrinter()\n",
    "    visitor.visit(parsed)\n"
   ]
  },
  {
   "cell_type": "code",
   "execution_count": 24,
   "id": "6632209c",
   "metadata": {},
   "outputs": [
    {
     "name": "stdout",
     "output_type": "stream",
     "text": [
      "main\n"
     ]
    }
   ],
   "source": [
    "class PrintToMyPrintTransformer(ast.NodeTransformer):\n",
    "    def visit_Call(self, node):\n",
    "        # Check if the function being called is 'print'\n",
    "#         print(ast.Name)\n",
    "        if node.func.id!='print':\n",
    "            print(node.func.id)\n",
    "        return self.generic_visit(node)\n",
    "        \n",
    "with open(f\"inpu.py\", \"r\") as f:\n",
    "    code = f.read()#\n",
    "    tree = ast.parse(code)\n",
    "    transformer = PrintToMyPrintTransformer()\n",
    "    new_tree = transformer.visit(tree)"
   ]
  },
  {
   "cell_type": "code",
   "execution_count": 26,
   "id": "e40defe1",
   "metadata": {},
   "outputs": [],
   "source": [
    "# automate code when give path of the file then convert into code\n"
   ]
  },
  {
   "cell_type": "code",
   "execution_count": 27,
   "id": "61702eab",
   "metadata": {},
   "outputs": [],
   "source": [
    "import ast\n",
    "\n",
    "class PrintToMyPrintTransformer(ast.NodeTransformer):\n",
    "    def visit_Call(self, node):\n",
    "        # Check if the function being called is 'print'\n",
    "        if isinstance(node.func, ast.Name) and node.func.id == 'print':\n",
    "            # Replace 'print' with 'my_print'\n",
    "            node.func.id = 'my_print'\n",
    "        return self.generic_visit(node)"
   ]
  },
  {
   "cell_type": "code",
   "execution_count": 28,
   "id": "7767360d",
   "metadata": {},
   "outputs": [],
   "source": [
    "tree = ast.parse(code)"
   ]
  },
  {
   "cell_type": "code",
   "execution_count": 29,
   "id": "2354b0e6",
   "metadata": {},
   "outputs": [],
   "source": [
    "transformer = PrintToMyPrintTransformer()\n",
    "new_tree = transformer.visit(tree)"
   ]
  },
  {
   "cell_type": "code",
   "execution_count": 30,
   "id": "a96031f5",
   "metadata": {},
   "outputs": [
    {
     "name": "stdout",
     "output_type": "stream",
     "text": [
      "from abcL import ModuleReloader\n",
      "from abcd import main, bidderAndBidReadOnly\n",
      "my_print('aaa')\n",
      "my_print(main('1,15,A,5,B,10,A,8,A,17,B,17'))\n",
      "h = 'hello'\n"
     ]
    }
   ],
   "source": [
    "modified_code = ast.unparse(new_tree)\n",
    "print(modified_code)"
   ]
  },
  {
   "cell_type": "code",
   "execution_count": null,
   "id": "cac00dde",
   "metadata": {},
   "outputs": [],
   "source": []
  },
  {
   "cell_type": "code",
   "execution_count": 31,
   "id": "e4129f2c",
   "metadata": {},
   "outputs": [
    {
     "name": "stdout",
     "output_type": "stream",
     "text": [
      "abcL\n",
      "abcd\n",
      "abcd\n"
     ]
    }
   ],
   "source": [
    "import ast\n",
    "class WildcardImportChecker(ast.NodeVisitor):\n",
    "    def visit_ImportFrom(self, node):\n",
    "        for alias in node.names:\n",
    "            print(node.module)\n",
    "        self.generic_visit(node)\n",
    "with open(\"inpu.py\", \"r\") as f:\n",
    "    code = f.read()#\n",
    "\n",
    "tree = ast.parse(code)\n",
    "visitor = WildcardImportChecker()\n",
    "visitor.visit(tree)"
   ]
  },
  {
   "cell_type": "code",
   "execution_count": 32,
   "id": "e955aefe",
   "metadata": {},
   "outputs": [
    {
     "name": "stdout",
     "output_type": "stream",
     "text": [
      "main\n"
     ]
    }
   ],
   "source": [
    "class PrintToMyPrintTransformer(ast.NodeTransformer):\n",
    "    def visit_Call(self, node):\n",
    "        if node.func.id!='print':\n",
    "            print(node.func.id)\n",
    "        return self.generic_visit(node)\n",
    "        \n",
    "with open(f\"inpu.py\", \"r\") as f:\n",
    "    code = f.read()#\n",
    "    tree = ast.parse(code)\n",
    "    transformer = PrintToMyPrintTransformer()\n",
    "    new_tree = transformer.visit(tree)"
   ]
  }
 ],
 "metadata": {
  "kernelspec": {
   "display_name": "Python 3 (ipykernel)",
   "language": "python",
   "name": "python3"
  },
  "language_info": {
   "codemirror_mode": {
    "name": "ipython",
    "version": 3
   },
   "file_extension": ".py",
   "mimetype": "text/x-python",
   "name": "python",
   "nbconvert_exporter": "python",
   "pygments_lexer": "ipython3",
   "version": "3.9.12"
  }
 },
 "nbformat": 4,
 "nbformat_minor": 5
}
